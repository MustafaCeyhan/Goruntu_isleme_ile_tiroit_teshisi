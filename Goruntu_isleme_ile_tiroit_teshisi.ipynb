{
  "nbformat": 4,
  "nbformat_minor": 0,
  "metadata": {
    "colab": {
      "name": "Thyroid diagnosis using image processing",
      "provenance": [],
      "collapsed_sections": [
        "QIsrtXpf2qb-",
        "r9D8bBx60xVm",
        "GcAWz3bVs8Uq",
        "svmNJhKN2RDb"
      ]
    },
    "kernelspec": {
      "display_name": "Python 3",
      "language": "python",
      "name": "python3"
    },
    "language_info": {
      "codemirror_mode": {
        "name": "ipython",
        "version": 3
      },
      "file_extension": ".py",
      "mimetype": "text/x-python",
      "name": "python",
      "nbconvert_exporter": "python",
      "pygments_lexer": "ipython3",
      "version": "3.8.5"
    }
  },
  "cells": [
    {
      "cell_type": "markdown",
      "metadata": {
        "id": "QIsrtXpf2qb-"
      },
      "source": [
        "##Kütüphanelerin yüklenmesi."
      ]
    },
    {
      "cell_type": "code",
      "metadata": {
        "id": "7jC-rEOK2RDF"
      },
      "source": [
        "import numpy as np\n",
        "import pandas as pd\n",
        "import math\n",
        "import shutil\n",
        "import matplotlib.pyplot as plt\n",
        "import keras,os\n",
        "from keras.models import Sequential\n",
        "from keras.layers import Dense, Conv2D, MaxPool2D , Flatten, Dropout\n",
        "from keras.preprocessing.image import ImageDataGenerator\n",
        "import xml.etree.ElementTree as ET\n"
      ],
      "execution_count": 1,
      "outputs": []
    },
    {
      "cell_type": "markdown",
      "metadata": {
        "id": "r9D8bBx60xVm"
      },
      "source": [
        "##Eğitilecek Klasörün İndirilmesi"
      ]
    },
    {
      "cell_type": "markdown",
      "metadata": {
        "id": "-bKQfS_rsg-1"
      },
      "source": [
        "thyroid.zip dosyasının dropbox üzerinden çekilmesi.\n"
      ]
    },
    {
      "cell_type": "code",
      "metadata": {
        "id": "UkMFgYHa2gI4"
      },
      "source": [
        "!wget https://www.dropbox.com/s/jbwikf3mm2fzue9/thyroid.zip?dl=0\n",
        "!unzip /content/thyroid.zip?dl=0"
      ],
      "execution_count": null,
      "outputs": []
    },
    {
      "cell_type": "markdown",
      "metadata": {
        "id": "GcAWz3bVs8Uq"
      },
      "source": [
        "##Klasör içerisindeki Dosyaların Eğitim için Sınıflandırılması"
      ]
    },
    {
      "cell_type": "markdown",
      "metadata": {
        "id": "_D8e0yEL1BYA"
      },
      "source": [
        "Tirads özelliği ile kaç farklı değer olduğunun bulunması."
      ]
    },
    {
      "cell_type": "code",
      "metadata": {
        "colab": {
          "base_uri": "https://localhost:8080/"
        },
        "id": "5yOYVjoV2RDO",
        "outputId": "4b11d076-535e-4588-d74f-1ddc79883d91"
      },
      "source": [
        "list = []\n",
        "for i in range(1,400):\n",
        "    if os.path.exists('thyroid/'+str(i)+'.xml') == True:\n",
        "        tree = ET.parse('thyroid/'+str(i)+'.xml')\n",
        "        root = tree.getroot()\n",
        "        list.append(root[7].text)\n",
        "        #print(i,': ',root[7].text)\n",
        "list_uni = pd.Series(list).unique()\n",
        "list_uni\n",
        "\n",
        "#Not: Kod satırı çalıştığında  None, 2, 4a, 5, 4b, 4c, 3 olarak yedi farklı tirads değerinin olduğu görülebilir."
      ],
      "execution_count": 3,
      "outputs": [
        {
          "output_type": "execute_result",
          "data": {
            "text/plain": [
              "array([None, '2', '4a', '5', '4b', '4c', '3'], dtype=object)"
            ]
          },
          "metadata": {
            "tags": []
          },
          "execution_count": 3
        }
      ]
    },
    {
      "cell_type": "markdown",
      "metadata": {
        "id": "Ra8zE_ft1dDy"
      },
      "source": [
        "Benign, Malign ve herhangi bir sınıfı temsil etmeyen None değerli görüntü sayısının belirlenmesi.\n",
        "\n",
        "Not: 2, 3 benign yani iyi huylu. 4a, 4b, 4c ve 5 malign yani kötü huylu anlamına gelmektedir."
      ]
    },
    {
      "cell_type": "code",
      "metadata": {
        "colab": {
          "base_uri": "https://localhost:8080/"
        },
        "id": "iy6Tyzwm2RDS",
        "outputId": "e3cd2fbb-644b-41c1-f970-3162f24b08d9"
      },
      "source": [
        "benigns_counter= 0\n",
        "maligns_counter= 0\n",
        "None_counter= 0\n",
        "less= 0\n",
        "\n",
        "for i in range(1,401):\n",
        "    for j in range(1,3):\n",
        "        if os.path.exists('thyroid/'+str(i)+'_'+str(j)+'.jpg') == True:\n",
        "            tree = ET.parse('thyroid/'+str(i)+'.xml')\n",
        "            root = tree.getroot()\n",
        "            classes = root[7].text\n",
        "            \n",
        "            if classes== '2' or classes== '3':\n",
        "                benigns_counter=benigns_counter +1\n",
        "            elif classes== '4a' or classes== '4b' or classes== '4c' or classes == '5':\n",
        "                maligns_counter= maligns_counter +1\n",
        "            else:\n",
        "                 None_counter= None_counter+ 1\n",
        "\n",
        "print(\"benigns_counter: \",benigns_counter,\"\\n\" \n",
        "      \"maligns_counter:\",maligns_counter,\"\\n\"\n",
        "      \"None_counter:\",None_counter)\n",
        "\n",
        "\n",
        "if benigns_counter < maligns_counter:\n",
        "    less= benigns_counter\n",
        "else:\n",
        "    less= maligns_counter\n",
        "\n",
        "print(\"less:\",less)\n",
        "\n",
        "#Sonuçlara bakıldığında malign sayısının benign sayısından neredeyse 5 katı fazla olduğu görülebilir."
      ],
      "execution_count": 4,
      "outputs": [
        {
          "output_type": "stream",
          "text": [
            "benigns_counter:  60 \n",
            "maligns_counter: 283 \n",
            "None_counter: 119\n",
            "less: 60\n"
          ],
          "name": "stdout"
        }
      ]
    },
    {
      "cell_type": "markdown",
      "metadata": {
        "id": "rJqX0WNS2bjH"
      },
      "source": [
        "Tirads skoru 2 ve 3 olanların benigns(yani iyi huylular) ve tirads skoru 4a, 4b, 4c, ve 5 olanların malign(yani kötü huylular) klasörlerine kopyalanması. \n",
        "\n",
        "Not: Bu iki klasör split klasörünün altındadır."
      ]
    },
    {
      "cell_type": "code",
      "metadata": {
        "collapsed": true,
        "id": "T9JUn2TQ2RDU"
      },
      "source": [
        "#benign/malign için klasor oluşturuluyor\n",
        "os.mkdir('split')\n",
        "os.mkdir('split/benigns')\n",
        "os.mkdir('split/maligns')\n",
        "\n",
        "#Not: Her bir klasördeki elemanın less değeri kadar eleman alması için sayaç görevi görecek değişkenlerin belirlenmesi.\n",
        "be_holder= 0\n",
        "ma_holder= 0\n",
        "\n",
        "\n",
        "for i in range(1,401):\n",
        "    for j in range(1,3):\n",
        "        if os.path.exists('thyroid/'+str(i)+'_'+str(j)+'.jpg') == True:\n",
        "            tree = ET.parse('thyroid/'+str(i)+'.xml')\n",
        "            root = tree.getroot()\n",
        "            classes = root[7].text\n",
        "            \n",
        "            if classes == '2' or classes == '3':\n",
        "                if be_holder <= less: # Eleman sayısının less sayısı kadar olması sağlanıyor\n",
        "                    shutil.copy('thyroid/'+str(i)+'_'+str(j)+'.jpg', 'split/benigns')\n",
        "                    be_holder= be_holder + 1\n",
        "            elif classes == '4a' or classes == '4b' or classes == '4c' or classes == '5':\n",
        "                if ma_holder <= less: # Eleman sayısının less sayısı kadar olması sağlanıyor\n",
        "                    shutil.copy('thyroid/'+str(i)+'_'+str(j)+'.jpg', 'split/maligns')\n",
        "                    ma_holder= ma_holder + 1\n",
        "#Not: kopyalamada benign ve malign klasörlerinin altındaki eleman sayılarının eşit olacak şekilde kopyalandı."
      ],
      "execution_count": 23,
      "outputs": []
    },
    {
      "cell_type": "markdown",
      "metadata": {
        "id": "aNKXpnKV3EeT"
      },
      "source": [
        "Yeni oluşturulacak compile klasörü altında split klasörünün içinde bulunan bütün verinin train, test ve val olarak üçe ayrılması"
      ]
    },
    {
      "cell_type": "code",
      "metadata": {
        "colab": {
          "base_uri": "https://localhost:8080/"
        },
        "id": "FJIw3Ze32RDW",
        "outputId": "c7e440b1-a4a6-409b-8aa1-598ea873248a"
      },
      "source": [
        "#görüntüler split klasörünün altındaki benigns ve maligns klasörünün altına kopyalandıktan sonra her klasörde \n",
        "#ne kadar sayıda görüntü olduğunu kontrol ediyoruz.  \n",
        "ROOT_DIR = \"split\"\n",
        "number_of_images = {}\n",
        "\n",
        "for dir in os.listdir(ROOT_DIR):\n",
        "    number_of_images[dir] = len(os.listdir(os.path.join(ROOT_DIR, dir)))\n",
        "\n",
        "number_of_images.items()"
      ],
      "execution_count": 24,
      "outputs": [
        {
          "output_type": "execute_result",
          "data": {
            "text/plain": [
              "dict_items([('maligns', 61), ('benigns', 60)])"
            ]
          },
          "metadata": {
            "tags": []
          },
          "execution_count": 24
        }
      ]
    },
    {
      "cell_type": "code",
      "metadata": {
        "id": "vh_-FwjY3Czs"
      },
      "source": [
        "#datasetinin train, test, val olarak üçe ayıran fonksiyon\n",
        "def dataFolder(p,split):\n",
        "    if not os.path.exists (\"./\"+p):\n",
        "        os.mkdir(\"./\"+p)\n",
        "\n",
        "        for dir in os.listdir(ROOT_DIR):\n",
        "            os.makedirs(\"./\"+p+\"/\"+dir)\n",
        "\n",
        "            for img in np.random.choice(a = os.listdir(os.path.join(ROOT_DIR, dir)) , \n",
        "                                size = (math.floor(split*number_of_images[dir]) -5), \n",
        "                                replace= False):\n",
        "                O = os.path.join(ROOT_DIR,dir,img)\n",
        "                D = os.path.join(\"./\"+p,dir)\n",
        "                shutil.copy(O,D)\n",
        "                os.remove(O)\n",
        "    else:\n",
        "        print(f\"{p} folder exist\")"
      ],
      "execution_count": 8,
      "outputs": []
    },
    {
      "cell_type": "code",
      "metadata": {
        "id": "PpVfPIAU3WTf"
      },
      "source": [
        "#compile isminde yeni bir klasör oluşturup datasetinin train, test, val olarak üçe ayrıldığı yer\n",
        "os.mkdir('compile')\n",
        "dataFolder(\"compile/train\",0.7)\n",
        "dataFolder(\"compile/test\",0.25)\n",
        "dataFolder(\"compile/val\",0.25)"
      ],
      "execution_count": 9,
      "outputs": []
    },
    {
      "cell_type": "code",
      "metadata": {
        "id": "Vc0j5El_7hM1"
      },
      "source": [
        "na_benigns = os.listdir('split/benigns') #split/benigns dizininin altında kalan dosya sayısı\n",
        "na_maligns = os.listdir('split/maligns') #split/maligns dizininin altında kalan dosya sayısı\n",
        "\n",
        "#kalan dosyaların compile/train klasörünün altına taşınması\n",
        "for i in na_benigns:\n",
        "    shutil.move('split/benigns/'+i, 'compile/train/benigns') \n",
        "for i in na_maligns:\n",
        "    shutil.move('split/maligns/'+i, 'compile/train/maligns') "
      ],
      "execution_count": 10,
      "outputs": []
    },
    {
      "cell_type": "markdown",
      "metadata": {
        "id": "7SC_TsVP9t9h"
      },
      "source": [
        "## Model-1 (Bu CNN modeli sigmoid aktivasyon fonksiyonu ile binary sınıflandırma yapmaktadır)"
      ]
    },
    {
      "cell_type": "markdown",
      "metadata": {
        "id": "ddjwqhXF_p12"
      },
      "source": [
        "###Verinin hazırlanması"
      ]
    },
    {
      "cell_type": "markdown",
      "metadata": {
        "id": "L6ygwWupGt4q"
      },
      "source": [
        "image_count = number of epochs * batch size * steps_per_epoch\n",
        "\n",
        "Not: Yukarıdaki formül uygun parametre değerleri için kullanılmıştır"
      ]
    },
    {
      "cell_type": "code",
      "metadata": {
        "id": "h3gH5wHC_lTw"
      },
      "source": [
        "#Eğitime girecek görüntülerin ön işlemden geçtiği metotlar\n",
        "def preprocessigImages1(path):\n",
        "    image_data = ImageDataGenerator(zoom_range= 0.2, shear_range = 0.2, rescale= 1/225, horizontal_flip= True)\n",
        "    image = image_data.flow_from_directory(directory = path, target_size = (224,224),batch_size = 6, class_mode = 'binary')\n",
        "    return image\n",
        "\n",
        "def preprocessigImages2(path):\n",
        "    image_data = ImageDataGenerator(rescale= 1/225)\n",
        "    image = image_data.flow_from_directory(directory = path, target_size = (224,224),batch_size = 6, class_mode = 'binary')\n",
        "    return image"
      ],
      "execution_count": null,
      "outputs": []
    },
    {
      "cell_type": "code",
      "metadata": {
        "colab": {
          "base_uri": "https://localhost:8080/"
        },
        "id": "ySoDW5XI_kjQ",
        "outputId": "81be3781-6e1b-4fba-ba04-44911514fc98"
      },
      "source": [
        "#Verilerin eğitime hazır hale geldiği bilgisayarın görüntüleri anlayabileceği şekle gelmesi için ön işlem metotlarına gönderildiği kod bloğu\n",
        "path = \"compile/train\"\n",
        "train_data = preprocessigImages1(path)\n",
        "\n",
        "path = \"compile/val\"\n",
        "val_data = preprocessigImages2(path)\n",
        "\n",
        "path = \"compile/test\"\n",
        "test_data = preprocessigImages2(path)"
      ],
      "execution_count": null,
      "outputs": [
        {
          "output_type": "stream",
          "text": [
            "Found 76 images belonging to 2 classes.\n",
            "Found 20 images belonging to 2 classes.\n",
            "Found 20 images belonging to 2 classes.\n"
          ],
          "name": "stdout"
        }
      ]
    },
    {
      "cell_type": "code",
      "metadata": {
        "colab": {
          "base_uri": "https://localhost:8080/"
        },
        "id": "CT-0w-sk2F6g",
        "outputId": "684958e4-84b3-40cb-f8ce-3a6d01ccc3de"
      },
      "source": [
        "# Sınıf bilgileri\n",
        "train_data.class_indices"
      ],
      "execution_count": null,
      "outputs": [
        {
          "output_type": "execute_result",
          "data": {
            "text/plain": [
              "{'benigns': 0, 'maligns': 1}"
            ]
          },
          "metadata": {
            "tags": []
          },
          "execution_count": 81
        }
      ]
    },
    {
      "cell_type": "markdown",
      "metadata": {
        "id": "rBRdJ5GxAFxw"
      },
      "source": [
        "###Modelin oluşturulması"
      ]
    },
    {
      "cell_type": "code",
      "metadata": {
        "id": "iS1vtR_d9vaC"
      },
      "source": [
        "model = Sequential()\n",
        "\n",
        "model.add(Conv2D(filters=16, kernel_size=(3,3), activation=\"relu\", input_shape = (224, 224, 3) ))\n",
        "model.add(MaxPool2D(pool_size=(2,2) ))\n",
        "\n",
        "model.add(Conv2D(filters=36, kernel_size=(3,3), activation=\"relu\"))\n",
        "model.add(MaxPool2D(pool_size=(2,2) ))\n",
        "\n",
        "model.add(Conv2D(filters=64, kernel_size=(3,3), activation=\"relu\"))\n",
        "model.add(MaxPool2D(pool_size=(2,2) ))\n",
        "\n",
        "model.add(Conv2D(filters=128, kernel_size=(3,3), activation=\"relu\"))\n",
        "model.add(MaxPool2D(pool_size=(2,2) ))\n",
        "\n",
        "model.add(Dropout(rate=0.25))\n",
        "\n",
        "model.add(Flatten())\n",
        "model.add(Dense(units=64, activation= 'relu'))\n",
        "model.add(Dropout(rate = 0.25))\n",
        "model.add(Dense(units=1, activation= 'sigmoid'))\n",
        "\n",
        "model.summary()"
      ],
      "execution_count": null,
      "outputs": []
    },
    {
      "cell_type": "code",
      "metadata": {
        "id": "cnB7qL4A-CIk"
      },
      "source": [
        "model.compile(optimizer='adam', loss = keras.losses.binary_crossentropy, metrics=['accuracy'])"
      ],
      "execution_count": null,
      "outputs": []
    },
    {
      "cell_type": "code",
      "metadata": {
        "id": "KSVBhlS_-Lce"
      },
      "source": [
        "# Modelin her eğitim içerisinde en iyi val_accuracy değerine sahip olan ağırlık değerlerine kaydetmesi\n",
        "from keras.callbacks import ModelCheckpoint, EarlyStopping\n",
        "\n",
        "# erken durdurma modelin en iyi duruma geldiği için eğitime devam etmemesi\n",
        "es = EarlyStopping(monitor=\"val_accuracy\", min_delta = 0.01, patience= 5, verbose=1, mode='auto')\n",
        "\n",
        "# En iyi durumlarun kaydedilmesi \n",
        "mc = ModelCheckpoint(monitor='val_accuracy', filepath=\"./bestmodel1.h5\", verbose=1, save_best= True, mode='auto')\n",
        "\n",
        "cd = [es, mc]"
      ],
      "execution_count": 84,
      "outputs": []
    },
    {
      "cell_type": "code",
      "metadata": {
        "id": "Ly9ADqVM-iEo"
      },
      "source": [
        "#Modelin eğitildiği kısım\n",
        "hs = model.fit_generator(generator=train_data, \n",
        "                         steps_per_epoch=train_data.samples/train_data.batch_size,\n",
        "                         validation_steps=val_data.samples/val_data.batch_size, \n",
        "                         epochs=30, \n",
        "                         verbose= 1, \n",
        "                         validation_data= val_data, \n",
        "                         callbacks= cd)"
      ],
      "execution_count": null,
      "outputs": []
    },
    {
      "cell_type": "markdown",
      "metadata": {
        "id": "nOG-T7XIBvTw"
      },
      "source": [
        "Grafik üzerinde değerlendirme."
      ]
    },
    {
      "cell_type": "code",
      "metadata": {
        "colab": {
          "base_uri": "https://localhost:8080/"
        },
        "id": "DRtltkgMAu1o",
        "outputId": "0c6afeac-c92e-4aec-88ce-ad082733d565"
      },
      "source": [
        "h = hs.history\n",
        "h.keys()"
      ],
      "execution_count": null,
      "outputs": [
        {
          "output_type": "execute_result",
          "data": {
            "text/plain": [
              "dict_keys(['loss', 'accuracy', 'val_loss', 'val_accuracy'])"
            ]
          },
          "metadata": {
            "tags": []
          },
          "execution_count": 45
        }
      ]
    },
    {
      "cell_type": "code",
      "metadata": {
        "colab": {
          "base_uri": "https://localhost:8080/",
          "height": 281
        },
        "id": "x4ZmLeFoA0eO",
        "outputId": "41875801-ee1a-4baf-ba2c-9b40c87795ac"
      },
      "source": [
        "import matplotlib.pyplot as plt\n",
        "\n",
        "plt.plot(h['accuracy'])\n",
        "plt.plot(h['val_accuracy'], c='red')\n",
        "\n",
        "plt.title('acc vs val-acc')\n",
        "plt.show()"
      ],
      "execution_count": null,
      "outputs": [
        {
          "output_type": "display_data",
          "data": {
            "image/png": "[encoded data removed]",
            "text/plain": [
              "<Figure size 432x288 with 1 Axes>"
            ]
          },
          "metadata": {
            "tags": []
          }
        }
      ]
    },
    {
      "cell_type": "code",
      "metadata": {
        "colab": {
          "base_uri": "https://localhost:8080/",
          "height": 281
        },
        "id": "ESokp6RvBB_N",
        "outputId": "f9774dd1-5ef0-4fbd-90fb-60e9e5760a45"
      },
      "source": [
        "plt.plot(h['loss'])\n",
        "plt.plot(h['val_loss'], c='red')\n",
        "\n",
        "plt.title('loss vs val-loss')\n",
        "plt.show()"
      ],
      "execution_count": null,
      "outputs": [
        {
          "output_type": "display_data",
          "data": {
            "image/png": "[encoded data removed]",
            "text/plain": [
              "<Figure size 432x288 with 1 Axes>"
            ]
          },
          "metadata": {
            "tags": []
          }
        }
      ]
    },
    {
      "cell_type": "code",
      "metadata": {
        "id": "rg5vwGvDBJR-"
      },
      "source": [
        "# Eğitim içerisinde en iyi val_accuracy değere sahip olan kısımın test için yüklenmesi\n",
        "from keras.models import load_model\n",
        "\n",
        "model = load_model(\"bestmodel1.h5\")"
      ],
      "execution_count": null,
      "outputs": []
    },
    {
      "cell_type": "code",
      "metadata": {
        "colab": {
          "base_uri": "https://localhost:8080/"
        },
        "id": "jEJXKtboBRFU",
        "outputId": "2274b8fd-1f7d-4183-dc51-71776e7adeb9"
      },
      "source": [
        "#Test verileri ile model sınandığında %75 gibi bir değer karşımıza çıkıyor\n",
        "#Bu değer ortalamanın üstü olsada yeterli değil\n",
        "#Daha iyi sonuç alamamızın asıl sebebi elimizde az verinin olması\n",
        "\n",
        "acc = model.evaluate(test_data)[1]\n",
        "\n",
        "print(f\"the accuracy of our model is {acc*100} %\")"
      ],
      "execution_count": null,
      "outputs": [
        {
          "output_type": "stream",
          "text": [
            "4/4 [==============================] - 1s 86ms/step - loss: 0.4597 - accuracy: 0.7500\n",
            "the accuracy of our model is 75.0 %\n"
          ],
          "name": "stdout"
        }
      ]
    },
    {
      "cell_type": "markdown",
      "metadata": {
        "id": "G0lmhA0EBhlp"
      },
      "source": [
        "Model doğruluk oranına bakıldığında %90 gibi bir doğruluk oranı yakalandığı görülebilir."
      ]
    },
    {
      "cell_type": "markdown",
      "metadata": {
        "id": "-FzDEF9LDAac"
      },
      "source": [
        "Tahmin"
      ]
    },
    {
      "cell_type": "code",
      "metadata": {
        "id": "1NLd8bQVCziH"
      },
      "source": [
        "from keras.preprocessing.image import load_img, img_to_array"
      ],
      "execution_count": null,
      "outputs": []
    },
    {
      "cell_type": "code",
      "metadata": {
        "colab": {
          "base_uri": "https://localhost:8080/",
          "height": 420
        },
        "id": "C69RVMEBDKx0",
        "outputId": "b8ff6331-a570-4ea1-b82a-a026c44aa1fd"
      },
      "source": [
        "#Tahmin edilecek görüntünün çağırılması\n",
        "path = \"/content/compile/test/maligns/21_1.jpg\"\n",
        "img = load_img(path, target_size= (224, 224))\n",
        "input_arr = img_to_array(img)/225\n",
        "\n",
        "#tahmin edilecek görüntünün ekrana basılması\n",
        "plt.imshow(input_arr)\n",
        "plt.title(\"input image\")\n",
        "plt.show()\n",
        "\n",
        "#görüntünün tahmine hazır hale getirilmesi\n",
        "#print(input_arr.shape)\n",
        "input_arr = np.expand_dims(input_arr, axis=0)\n",
        "\n",
        "#tahmin işlemenin yapılması\n",
        "pred = model.predict_classes(input_arr)[0][0]\n",
        "#print(pred.shape)\n",
        "print(pred,\"\\n\") \n",
        "\n",
        "#tahmin işleminin cevabının ekrana basılması\n",
        "if pred == 0:\n",
        "    print(\"Benign\")\n",
        "else:\n",
        "    print(\"Maligin\")\n"
      ],
      "execution_count": null,
      "outputs": [
        {
          "output_type": "stream",
          "text": [
            "Clipping input data to the valid range for imshow with RGB data ([0..1] for floats or [0..255] for integers).\n"
          ],
          "name": "stderr"
        },
        {
          "output_type": "display_data",
          "data": {
            "image/png": "[encoded data removed]",
            "text/plain": [
              "<Figure size 432x288 with 1 Axes>"
            ]
          },
          "metadata": {
            "tags": []
          }
        },
        {
          "output_type": "stream",
          "text": [
            "(224, 224, 3)\n",
            "1 \n",
            "\n",
            "Maligin\n"
          ],
          "name": "stdout"
        },
        {
          "output_type": "stream",
          "text": [
            "/usr/local/lib/python3.7/dist-packages/keras/engine/sequential.py:450: UserWarning: `model.predict_classes()` is deprecated and will be removed after 2021-01-01. Please use instead:* `np.argmax(model.predict(x), axis=-1)`,   if your model does multi-class classification   (e.g. if it uses a `softmax` last-layer activation).* `(model.predict(x) > 0.5).astype(\"int32\")`,   if your model does binary classification   (e.g. if it uses a `sigmoid` last-layer activation).\n",
            "  warnings.warn('`model.predict_classes()` is deprecated and '\n"
          ],
          "name": "stderr"
        }
      ]
    },
    {
      "cell_type": "markdown",
      "metadata": {
        "id": "NWgI7RpngCDm"
      },
      "source": [
        "Not1: Eğer eğitim için aynı sayıda benign ve malgin görüntüleri seçilirse accuracy oranı %75 bir seviyede oluyor. Test için ayrılan malign değerlerinin hepsini doğru tahmin ederken benign değerlerin yarısından biraz daha fazlasını tahmin edebiliyor."
      ]
    },
    {
      "cell_type": "markdown",
      "metadata": {
        "id": "2t2pRK80Dtjj"
      },
      "source": [
        "Not2: Eğer eğitim için bütün değerler kullanılırsa yani malign değeri benign değerinin 5 katı kadar fazla görüntü olmuş oluyor. O zaman %90 bir accuracy oranı almasına rağmen hiçbir benin değerini doğru tahmin edemiyor. Yanı her iki sınıftanda aynı sayıda görüntü olması daha isabetli tahminler yapılmasını sağlar."
      ]
    },
    {
      "cell_type": "markdown",
      "metadata": {
        "id": "svmNJhKN2RDb"
      },
      "source": [
        "## Model- 2 (CNN VGG16)"
      ]
    },
    {
      "cell_type": "markdown",
      "metadata": {
        "id": "VAl2gRMp5K1B"
      },
      "source": [
        "Standart bir CNN modeli olan VGG16 softmax aktivasyon fonksiyonu ile regresyona dayalı bir tahmin yapılmaktadır"
      ]
    },
    {
      "cell_type": "code",
      "metadata": {
        "colab": {
          "base_uri": "https://localhost:8080/"
        },
        "id": "93GEg2Gn2RDY",
        "outputId": "62ab5cf8-e341-46ed-df4d-06b9e2f646c8"
      },
      "source": [
        "#Eğitime girecek görüntülerin ön işlemden geçdiği kod bloğu\n",
        "trdata = ImageDataGenerator()\n",
        "traindata = trdata.flow_from_directory(directory=\"compile6/train\", batch_size = 10, target_size=(224,224))\n",
        "\n",
        "\n",
        "tsdata = ImageDataGenerator()\n",
        "testdata = tsdata.flow_from_directory(directory=\"compile6/test\", batch_size = 10, target_size=(224,224))\n",
        "\n",
        "vldata = ImageDataGenerator()\n",
        "valdata = vldata.flow_from_directory(directory=\"compile6/val\", batch_size = 10, target_size=(224,224))"
      ],
      "execution_count": 71,
      "outputs": [
        {
          "output_type": "stream",
          "text": [
            "Found 76 images belonging to 2 classes.\n",
            "Found 20 images belonging to 2 classes.\n",
            "Found 20 images belonging to 2 classes.\n"
          ],
          "name": "stdout"
        }
      ]
    },
    {
      "cell_type": "code",
      "metadata": {
        "id": "_8BOvjPY2RDd"
      },
      "source": [
        "model = Sequential()\n",
        "model.add(Conv2D(input_shape=(224,224,3),filters=64,kernel_size=(3,3),padding=\"same\", activation=\"relu\"))\n",
        "model.add(Conv2D(filters=64,kernel_size=(3,3),padding=\"same\", activation=\"relu\"))\n",
        "model.add(MaxPool2D(pool_size=(2,2),strides=(2,2)))\n",
        "model.add(Conv2D(filters=128, kernel_size=(3,3), padding=\"same\", activation=\"relu\"))\n",
        "model.add(Conv2D(filters=128, kernel_size=(3,3), padding=\"same\", activation=\"relu\"))\n",
        "model.add(MaxPool2D(pool_size=(2,2),strides=(2,2)))\n",
        "model.add(Conv2D(filters=256, kernel_size=(3,3), padding=\"same\", activation=\"relu\"))\n",
        "model.add(Conv2D(filters=256, kernel_size=(3,3), padding=\"same\", activation=\"relu\"))\n",
        "model.add(Conv2D(filters=256, kernel_size=(3,3), padding=\"same\", activation=\"relu\"))\n",
        "model.add(MaxPool2D(pool_size=(2,2),strides=(2,2)))\n",
        "model.add(Conv2D(filters=512, kernel_size=(3,3), padding=\"same\", activation=\"relu\"))\n",
        "model.add(Conv2D(filters=512, kernel_size=(3,3), padding=\"same\", activation=\"relu\"))\n",
        "model.add(Conv2D(filters=512, kernel_size=(3,3), padding=\"same\", activation=\"relu\"))\n",
        "model.add(MaxPool2D(pool_size=(2,2),strides=(2,2)))\n",
        "model.add(Conv2D(filters=512, kernel_size=(3,3), padding=\"same\", activation=\"relu\"))\n",
        "model.add(Conv2D(filters=512, kernel_size=(3,3), padding=\"same\", activation=\"relu\"))\n",
        "model.add(Conv2D(filters=512, kernel_size=(3,3), padding=\"same\", activation=\"relu\"))\n",
        "model.add(MaxPool2D(pool_size=(2,2),strides=(2,2)))\n",
        "\n",
        "model.add(Flatten())\n",
        "model.add(Dense(units=4096,activation=\"relu\"))\n",
        "model.add(Dense(units=4096,activation=\"relu\"))\n",
        "model.add(Dense(units=2, activation=\"softmax\"))\n",
        "\n",
        "model.summary()"
      ],
      "execution_count": null,
      "outputs": []
    },
    {
      "cell_type": "code",
      "metadata": {
        "id": "nU-IdZajGJbd"
      },
      "source": [
        "from keras.optimizer_v1 import Adam\n",
        "from tensorflow import keras\n",
        "opt = keras.optimizers.Adam(learning_rate=0.001)"
      ],
      "execution_count": 73,
      "outputs": []
    },
    {
      "cell_type": "code",
      "metadata": {
        "id": "uupqFhUI2RDf"
      },
      "source": [
        "model.compile(loss=keras.losses.categorical_crossentropy, optimizer=opt, metrics=['accuracy'])"
      ],
      "execution_count": 76,
      "outputs": []
    },
    {
      "cell_type": "code",
      "metadata": {
        "id": "qZtOUWlH2RDg"
      },
      "source": [
        "# Modelin her eğitim içerisinde en iyi val_accuracy değerine sahip olan ağırlık değerlerine kaydetmesi\n",
        "from keras.callbacks import ModelCheckpoint, EarlyStopping\n",
        "\n",
        "checkpoint = ModelCheckpoint(\"./vgg16_2.h5\", \n",
        "                             monitor='val_accuracy', \n",
        "                             verbose=1, \n",
        "                             save_best_only=True, \n",
        "                             save_weights_only=False, \n",
        "                             mode='auto')\n",
        "\n",
        "early = EarlyStopping(monitor='val_accuracy', min_delta=0, patience=20, verbose=1, mode='auto')\n"
      ],
      "execution_count": 82,
      "outputs": []
    },
    {
      "cell_type": "code",
      "metadata": {
        "colab": {
          "base_uri": "https://localhost:8080/"
        },
        "id": "uDqFiSuTNWoG",
        "outputId": "0772c45b-ef69-4bf2-bdde-bc9a116eb58a"
      },
      "source": [
        "hist = model.fit_generator(steps_per_epoch=traindata.samples/traindata.batch_size,\n",
        "                           validation_steps=valdata.samples/valdata.batch_size,\n",
        "                           generator=traindata, \n",
        "                           validation_data= valdata, \n",
        "                           epochs=15,\n",
        "                           verbose= 1,\n",
        "                           callbacks=[early,checkpoint])"
      ],
      "execution_count": null,
      "outputs": [
        {
          "output_type": "stream",
          "text": [
            "/usr/local/lib/python3.7/dist-packages/keras/engine/training.py:1915: UserWarning: `Model.fit_generator` is deprecated and will be removed in a future version. Please use `Model.fit`, which supports generators.\n",
            "  warnings.warn('`Model.fit_generator` is deprecated and '\n"
          ],
          "name": "stderr"
        },
        {
          "output_type": "stream",
          "text": [
            "Epoch 1/15\n",
            "7/7 [==============================] - 161s 21s/step - loss: 0.6905 - accuracy: 0.4737 - val_loss: 0.6790 - val_accuracy: 0.6500\n",
            "\n",
            "Epoch 00001: saving model to ./bestmodel1.h5\n"
          ],
          "name": "stdout"
        },
        {
          "output_type": "stream",
          "text": [
            "Exception ignored in: <function IteratorResourceDeleter.__del__ at 0x7f8ac0bec680>\n",
            "Traceback (most recent call last):\n",
            "  File \"/usr/local/lib/python3.7/dist-packages/tensorflow/python/data/ops/iterator_ops.py\", line 546, in __del__\n",
            "    handle=self._handle, deleter=self._deleter)\n",
            "  File \"/usr/local/lib/python3.7/dist-packages/tensorflow/python/ops/gen_dataset_ops.py\", line 1264, in delete_iterator\n",
            "    _ctx, \"DeleteIterator\", name, handle, deleter)\n",
            "KeyboardInterrupt: \n"
          ],
          "name": "stderr"
        },
        {
          "output_type": "stream",
          "text": [
            "Epoch 2/15\n",
            "1/7 [==>...........................] - ETA: 2:09 - loss: 0.6827 - accuracy: 0.7000"
          ],
          "name": "stdout"
        }
      ]
    },
    {
      "cell_type": "markdown",
      "metadata": {
        "id": "uQcvL-0155_F"
      },
      "source": [
        "Grafik üzerinde değerlendirme.\n"
      ]
    },
    {
      "cell_type": "code",
      "metadata": {
        "id": "FOG9gIcGu0Wk",
        "colab": {
          "base_uri": "https://localhost:8080/",
          "height": 295
        },
        "outputId": "4b6bb0f9-400f-47db-bd53-5be5bb377ddb"
      },
      "source": [
        "h = hist.history\n",
        "h.keys()\n",
        "\n",
        "plt.plot(h[\"accuracy\"])\n",
        "plt.plot(h['val_accuracy'])\n",
        "plt.plot(h['loss'])\n",
        "plt.plot(h['val_loss'])\n",
        "plt.title(\"model accuracy\")\n",
        "plt.ylabel(\"Accuracy\")\n",
        "plt.xlabel(\"Epoch\")\n",
        "plt.legend([\"Accuracy\",\"Validation Accuracy\",\"loss\",\"Validation Loss\"])\n",
        "plt.show()"
      ],
      "execution_count": 66,
      "outputs": [
        {
          "output_type": "display_data",
          "data": {
            "image/png": "[encoded data removed]",
            "text/plain": [
              "<Figure size 432x288 with 1 Axes>"
            ]
          },
          "metadata": {
            "tags": [],
            "needs_background": "light"
          }
        }
      ]
    },
    {
      "cell_type": "code",
      "metadata": {
        "id": "WWIKl3a_kHk1"
      },
      "source": [
        "# Eğitim içerisinde en iyi val_accuracy değere sahip olan kısımın test için yüklenmesi\n",
        "from keras.models import load_model\n",
        "saved_model = load_model(\"vgg16_1.h5\")"
      ],
      "execution_count": 68,
      "outputs": []
    },
    {
      "cell_type": "code",
      "metadata": {
        "colab": {
          "base_uri": "https://localhost:8080/",
          "height": 303
        },
        "id": "uNjAQcm-v2QE",
        "outputId": "b1ac3f6b-117e-4e25-a7aa-47f2e3266f7b"
      },
      "source": [
        "from keras.preprocessing import image\n",
        "\n",
        "#Tahmin edilecek görüntünün çağırılması\n",
        "img = image.load_img(\"/content/compile6/test/benigns/130_1.jpg\",target_size=(224,224))\n",
        "img = np.asarray(img)\n",
        "\n",
        "#tahmin edilecek görüntünün ekrana basılması\n",
        "plt.imshow(img)\n",
        "\n",
        "#görüntünün tahmine hazır hale getirilmesi\n",
        "img = np.expand_dims(img, axis=0)\n",
        "output = saved_model.predict(img)\n",
        "#output = model.predict(img)\n",
        "print(output)\n",
        "\n",
        "#tahmin işleminin cevabının ekrana basılması\n",
        "if output[0][0] > output[0][1]:\n",
        "    print(\"cat\")\n",
        "else:\n",
        "    print('dog')"
      ],
      "execution_count": 70,
      "outputs": [
        {
          "output_type": "stream",
          "text": [
            "[[0.48289376 0.51710624]]\n",
            "dog\n"
          ],
          "name": "stdout"
        },
        {
          "output_type": "display_data",
          "data": {
            "image/png": "[encoded data removed]",
            "text/plain": [
              "<Figure size 432x288 with 1 Axes>"
            ]
          },
          "metadata": {
            "tags": [],
            "needs_background": "light"
          }
        }
      ]
    },
    {
      "cell_type": "code",
      "metadata": {
        "colab": {
          "base_uri": "https://localhost:8080/"
        },
        "id": "QpU2-n1kxjhw",
        "outputId": "62055130-bd1a-4b23-c00d-9ee2d07e0360"
      },
      "source": [
        "#acc = saved_model.evaluate_generator(testdata)[1]\n",
        "acc = saved_model.evaluate(testdata)[1]\n",
        "\n",
        "print(f\"the accuracy of our model is {acc*100} %\")"
      ],
      "execution_count": null,
      "outputs": [
        {
          "output_type": "stream",
          "text": [
            "2/2 [==============================] - 0s 111ms/step - loss: 0.6932 - accuracy: 0.5000\n",
            "the accuracy of our model is 50.0 %\n"
          ],
          "name": "stdout"
        }
      ]
    },
    {
      "cell_type": "markdown",
      "metadata": {
        "id": "evZYXOIguoiY"
      },
      "source": [
        "##Model 3 (Support Vector Machine)"
      ]
    },
    {
      "cell_type": "code",
      "metadata": {
        "id": "eIQj0z3quwXt"
      },
      "source": [
        "from skimage.transform import resize\n",
        "from skimage.io import imread"
      ],
      "execution_count": 11,
      "outputs": []
    },
    {
      "cell_type": "code",
      "metadata": {
        "id": "E9QqeJt2u8b_"
      },
      "source": [
        "Categories=['benigns','maligns'] #etiketlerin oluşturulması\n",
        "flat_data_arr=[]                 #eğitilecek veri\n",
        "target_arr=[]                    #etiketler\n",
        "\n",
        "datadir='/content/split'  #verilerin yüklenmesi"
      ],
      "execution_count": 25,
      "outputs": []
    },
    {
      "cell_type": "code",
      "metadata": {
        "colab": {
          "base_uri": "https://localhost:8080/"
        },
        "id": "gEKmXTGYvn65",
        "outputId": "1312b7d0-2b85-443a-9ec5-846759a8f0f1"
      },
      "source": [
        "#eğitilecek görüntüleri bir array dizisi haline getirildiği yer\n",
        "for i in Categories:\n",
        "    \n",
        "    print(f'kategori yükleniyor : {i}')\n",
        "    path=os.path.join(datadir,i)\n",
        "    for img in os.listdir(path):\n",
        "        img_array=imread(os.path.join(path,img))\n",
        "        img_resized=resize(img_array,(150,150,3))\n",
        "        flat_data_arr.append(img_resized.flatten())\n",
        "        target_arr.append(Categories.index(i))\n",
        "    print(f'kategori yüklendi:{i} başarılı')\n",
        "\n",
        "flat_data=np.array(flat_data_arr)\n",
        "target=np.array(target_arr)\n",
        "df=pd.DataFrame(flat_data) #dataframe\n",
        "df['Target']=target\n",
        "x=df.iloc[:,:-1] #input data \n",
        "y=df.iloc[:,-1] #output data"
      ],
      "execution_count": 26,
      "outputs": [
        {
          "output_type": "stream",
          "text": [
            "kategori yükleniyor : benigns\n",
            "kategori yüklendi:benigns başarılı\n",
            "kategori yükleniyor : maligns\n",
            "kategori yüklendi:maligns başarılı\n"
          ],
          "name": "stdout"
        }
      ]
    },
    {
      "cell_type": "code",
      "metadata": {
        "id": "W6HQhN8XwczT"
      },
      "source": [
        "#Support Vector Machine modelinin oluşturulması\n",
        "from sklearn import svm\n",
        "from sklearn.model_selection import GridSearchCV\n",
        "param_grid={'C':[0.1,1,10,100],'gamma':[0.0001,0.001,0.1,1],'kernel':['rbf','poly']}\n",
        "svc=svm.SVC(probability=True)\n",
        "model=GridSearchCV(svc,param_grid)"
      ],
      "execution_count": 28,
      "outputs": []
    },
    {
      "cell_type": "code",
      "metadata": {
        "colab": {
          "base_uri": "https://localhost:8080/"
        },
        "id": "VEuepnFJwkgA",
        "outputId": "e8b1359c-f617-4279-fde4-b495cfc8cb93"
      },
      "source": [
        "#Verinin Train Test olarak ikiye ayrılması\n",
        "from sklearn.model_selection import train_test_split\n",
        "x_train,x_test,y_train,y_test=train_test_split(x,y,test_size=0.20,random_state=77,stratify=y)\n",
        "print('Veriler başarılı bir şekilde ayrıldı.')"
      ],
      "execution_count": 29,
      "outputs": [
        {
          "output_type": "stream",
          "text": [
            "Veriler başarılı bir şekilde ayrıldı.\n"
          ],
          "name": "stdout"
        }
      ]
    },
    {
      "cell_type": "code",
      "metadata": {
        "colab": {
          "base_uri": "https://localhost:8080/"
        },
        "id": "y_szNPayMlYa",
        "outputId": "7ef1e7b8-9d7b-41f4-a30d-8cf2db5a0fd4"
      },
      "source": [
        " #Eğitimin yapılması\n",
        "model.fit(x_train,y_train)\n",
        "print('Eğitim sona erdi.')\n",
        "# model.best_params_ contains the best parameters obtained from GridSearchCV"
      ],
      "execution_count": 30,
      "outputs": [
        {
          "output_type": "stream",
          "text": [
            "Eğitim sona erdi.\n"
          ],
          "name": "stdout"
        }
      ]
    },
    {
      "cell_type": "code",
      "metadata": {
        "colab": {
          "base_uri": "https://localhost:8080/"
        },
        "id": "UJsRkkkxywGv",
        "outputId": "f5b51623-600f-4236-a06c-63c5259c4e4e"
      },
      "source": [
        "#Tahmin\n",
        "from sklearn.metrics import accuracy_score\n",
        "y_pred=model.predict(x_test)\n",
        "print(\"The predicted Data is :\")\n",
        "print(y_pred)\n",
        "print(\"The actual data is:\")\n",
        "print(np.array(y_test))\n",
        "print(f\"The model is {accuracy_score(y_pred,y_test)*100}% accurate\")"
      ],
      "execution_count": 31,
      "outputs": [
        {
          "output_type": "stream",
          "text": [
            "The predicted Data is :\n",
            "[0 0 0 1 0 1 1 0 0 0 0 1 0 0 1 1 1 0 1 1 0 1 1 1 0]\n",
            "The actual data is:\n",
            "[0 0 0 1 1 1 0 0 0 0 0 1 0 1 1 1 1 0 1 1 1 0 1 0 1]\n",
            "The model is 72.0% accurate\n"
          ],
          "name": "stdout"
        }
      ]
    },
    {
      "cell_type": "markdown",
      "metadata": {
        "id": "XMv1aLF7-a5G"
      },
      "source": [
        "##Model 4 (Random Forest)"
      ]
    },
    {
      "cell_type": "code",
      "metadata": {
        "id": "tXDuX7XQzofF"
      },
      "source": [
        "#Random Forest modelinin oluşturulması ve eğitim\n",
        "\n",
        "from sklearn.ensemble import RandomForestClassifier\n",
        "\n",
        "rf = RandomForestClassifier()\n",
        "clf = GridSearchCV(rf, param_grid={'n_estimators':[100,200],'min_samples_leaf':[2,3]})\n",
        "model = clf.fit(x_train,y_train)\n"
      ],
      "execution_count": 32,
      "outputs": []
    },
    {
      "cell_type": "code",
      "metadata": {
        "colab": {
          "base_uri": "https://localhost:8080/"
        },
        "id": "imxOaFF28Vok",
        "outputId": "c1343219-1b3f-49b0-9cec-de4f1cb6b8b0"
      },
      "source": [
        "#Tahmin\n",
        "import sklearn\n",
        "\n",
        "y_pred_test = model.predict(x_test)\n",
        "print(f\"The model is {accuracy_score(y_pred_test,y_test)*100}% accurate\")\n",
        "\n",
        "print(\"Test data metrics:\")\n",
        "print(sklearn.metrics.classification_report(y_true= y_test, y_pred= y_pred_test))"
      ],
      "execution_count": 33,
      "outputs": [
        {
          "output_type": "stream",
          "text": [
            "The model is 72.0% accurate\n",
            "Test data metrics:\n",
            "              precision    recall  f1-score   support\n",
            "\n",
            "           0       0.78      0.58      0.67        12\n",
            "           1       0.69      0.85      0.76        13\n",
            "\n",
            "    accuracy                           0.72        25\n",
            "   macro avg       0.73      0.71      0.71        25\n",
            "weighted avg       0.73      0.72      0.71        25\n",
            "\n"
          ],
          "name": "stdout"
        }
      ]
    },
    {
      "cell_type": "code",
      "metadata": {
        "id": "gZFZE4XdPwsl"
      },
      "source": [
        ""
      ],
      "execution_count": null,
      "outputs": []
    }
  ]
}